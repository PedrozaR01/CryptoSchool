{
  "nbformat": 4,
  "nbformat_minor": 0,
  "metadata": {
    "colab": {
      "name": "Vigenere.ipynb",
      "provenance": [],
      "collapsed_sections": []
    },
    "kernelspec": {
      "name": "python3",
      "display_name": "Python 3"
    },
    "language_info": {
      "name": "python"
    }
  },
  "cells": [
    {
      "cell_type": "code",
      "metadata": {
        "colab": {
          "base_uri": "https://localhost:8080/"
        },
        "id": "DHzGaLb0Mjnm",
        "outputId": "e4405804-b84b-4c0a-b59d-da5dc2eb28d7"
      },
      "source": [
        "#Pide el texto plano\n",
        "tplano = list(input(\"Ingresa el texto plano: \").upper().replace(\" \", \"\"))\n",
        "print(tplano)"
      ],
      "execution_count": null,
      "outputs": [
        {
          "output_type": "stream",
          "text": [
            "Ingresa el texto plano: sekai ichi\n",
            "['S', 'E', 'K', 'A', 'I', 'I', 'C', 'H', 'I']\n"
          ],
          "name": "stdout"
        }
      ]
    },
    {
      "cell_type": "code",
      "metadata": {
        "colab": {
          "base_uri": "https://localhost:8080/"
        },
        "id": "xuqNBAG9NBve",
        "outputId": "72cc1d2b-deb6-4fa1-99fa-0dad6a42a5d8"
      },
      "source": [
        "#pide la palabra clave\n",
        "clave = list(input(\"Ingresa la palabra clave: \").upper())\n",
        "print(clave)"
      ],
      "execution_count": null,
      "outputs": [
        {
          "output_type": "stream",
          "text": [
            "Ingresa la palabra clave: jenny\n",
            "['J', 'E', 'N', 'N', 'Y']\n"
          ],
          "name": "stdout"
        }
      ]
    },
    {
      "cell_type": "code",
      "metadata": {
        "id": "RU8NvZsMO418"
      },
      "source": [
        "tencriptado = []\n",
        "x = 0\n",
        "for i in range(len(tplano)):\n",
        "  #Vamos a imprimir la letra del tplano y a su vez una letra de la clave\n",
        "  #si las letras de la clave se acaban (x == len(clave)) vamos a repetir el ciclo en clave \n",
        "  #representado en el if\n",
        "  tencriptado.append((chr((((((int(ord(tplano[i]))-65)+(int(ord(clave[x])-65)))%26)+65))))) #Le agregué muchos paréntesis, \n",
        "  print(tplano[i])                                                                          #quizás algunos no sean necesarios pero otros sí \n",
        "  print(clave[x])                                                                           #ya que al encriptar me ponía caracteres raros\n",
        "  #print(tencriptado[i])\n",
        "  print(\"---------------\")\n",
        "  x = x + 1\n",
        "  if x == len(clave):\n",
        "    x = 0\n",
        "\n",
        "print(tplano)\n",
        "print(tencriptado)"
      ],
      "execution_count": null,
      "outputs": []
    },
    {
      "cell_type": "code",
      "metadata": {
        "id": "gwKASbmBKr0v"
      },
      "source": [
        "#tencriptado = list(input(\"yeeh: \").replace(\" \", \"\").upper())\n",
        "tdesencriptado = []\n",
        "x = 0 \n",
        "for i in range(len(tencriptado)):\n",
        "  #tdesencriptado.append((chr(((((int((ord(tencriptado[i]))-65))+26-(int(((ord(clave[x]))-65))%26)%26))+65))))\n",
        "  tdesencriptado.append((chr((((((int(ord(tencriptado[i]))+65)-(int(ord(clave[x])-65)))%26)+65)))))\n",
        "  print(tencriptado[i])\n",
        "  print(clave[x])\n",
        "  print(\"---------------\")\n",
        "  x = x + 1\n",
        "  if x == len(clave):\n",
        "    x = 0\n",
        "\n",
        "print(tplano)\n",
        "print(tencriptado)\n",
        "print(tdesencriptado)"
      ],
      "execution_count": null,
      "outputs": []
    }
  ]
}