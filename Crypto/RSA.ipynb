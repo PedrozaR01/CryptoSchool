{
  "nbformat": 4,
  "nbformat_minor": 0,
  "metadata": {
    "colab": {
      "name": "RSA",
      "provenance": []
    },
    "kernelspec": {
      "name": "python3",
      "display_name": "Python 3"
    },
    "language_info": {
      "name": "python"
    }
  },
  "cells": [
    {
      "cell_type": "code",
      "metadata": {
        "colab": {
          "base_uri": "https://localhost:8080/"
        },
        "id": "0m3HoGIJ5D1P",
        "outputId": "e8ccf521-dec3-4a6b-9c4a-9fb5b7f24485"
      },
      "source": [
        "p = 53\n",
        "q = 37\n",
        "n = p*q\n",
        "k = 117\n",
        "te = (52)*(36)\n",
        "e = 5\n",
        "d = (1+(k)*(te))\n",
        "di = int(d/e)\n",
        "s = 2\n",
        "cont = 0\n",
        "print(n)\n",
        "print(di)\n",
        "\n",
        " \n"
      ],
      "execution_count": null,
      "outputs": [
        {
          "output_type": "stream",
          "text": [
            "1961\n",
            "43805\n"
          ],
          "name": "stdout"
        }
      ]
    },
    {
      "cell_type": "code",
      "metadata": {
        "colab": {
          "base_uri": "https://localhost:8080/"
        },
        "id": "bdTQCyy0Q0gU",
        "outputId": "eebb4b9f-9e6f-410f-bdc3-aa1557bdf984"
      },
      "source": [
        "tplano = list(input(\"Ingresa la palabra: \").upper().replace(\" \",\"\"))\n",
        "print(tplano)"
      ],
      "execution_count": null,
      "outputs": [
        {
          "output_type": "stream",
          "text": [
            "Ingresa la palabra: pedroza\n",
            "['P', 'E', 'D', 'R', 'O', 'Z', 'A']\n"
          ],
          "name": "stdout"
        }
      ]
    },
    {
      "cell_type": "code",
      "metadata": {
        "id": "MyuP7NkeR5Ct",
        "colab": {
          "base_uri": "https://localhost:8080/"
        },
        "outputId": "464d8fb3-4e15-413d-bd77-126521e82f0f"
      },
      "source": [
        "tascii = []\n",
        "for i in range(len(tplano)):\n",
        "  tascii.append(ord(tplano[i])-65)\n",
        "print(tascii)"
      ],
      "execution_count": null,
      "outputs": [
        {
          "output_type": "stream",
          "text": [
            "[15, 4, 3, 17, 14, 25, 0]\n"
          ],
          "name": "stdout"
        }
      ]
    },
    {
      "cell_type": "code",
      "metadata": {
        "colab": {
          "base_uri": "https://localhost:8080/"
        },
        "id": "YroKDZDVSr4z",
        "outputId": "7fff1fbc-7911-49b9-a387-59ded907f449"
      },
      "source": [
        "tencriptado = []\n",
        "for i in range(len(tascii)):\n",
        "  tencriptado.append((pow(tascii[i], e))%n)\n",
        "print(tencriptado)"
      ],
      "execution_count": null,
      "outputs": [
        {
          "output_type": "stream",
          "text": [
            "[468, 1024, 243, 93, 510, 1806, 0]\n"
          ],
          "name": "stdout"
        }
      ]
    },
    {
      "cell_type": "code",
      "metadata": {
        "colab": {
          "base_uri": "https://localhost:8080/"
        },
        "id": "FyT5WKU_UPyu",
        "outputId": "987d6172-f1ad-4882-a0cb-1d36fd8576f3"
      },
      "source": [
        "tdesencriptado = []\n",
        "for i in range(len(tencriptado)):\n",
        "  tdesencriptado.append((pow(tencriptado[i], di))%n)\n",
        "print(tdesencriptado)"
      ],
      "execution_count": null,
      "outputs": [
        {
          "output_type": "stream",
          "text": [
            "[15, 4, 3, 17, 14, 25, 0]\n"
          ],
          "name": "stdout"
        }
      ]
    }
  ]
}