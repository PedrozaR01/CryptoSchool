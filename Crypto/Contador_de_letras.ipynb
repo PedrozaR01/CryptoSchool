{
  "nbformat": 4,
  "nbformat_minor": 0,
  "metadata": {
    "colab": {
      "name": "Contador de letras.ipynb",
      "provenance": [],
      "collapsed_sections": []
    },
    "kernelspec": {
      "name": "python3",
      "display_name": "Python 3"
    },
    "language_info": {
      "name": "python"
    }
  },
  "cells": [
    {
      "cell_type": "code",
      "metadata": {
        "colab": {
          "base_uri": "https://localhost:8080/"
        },
        "id": "hBHKT_9hbjp_",
        "outputId": "a588fe52-c9bf-4633-d9e0-6e28d01a4c1f"
      },
      "source": [
        "tplano = list(input(\"Ingresa algo: \").replace(\" \",\"\"))\n",
        "print(tplano)"
      ],
      "execution_count": null,
      "outputs": [
        {
          "output_type": "stream",
          "text": [
            "Ingresa algo: irvin\n",
            "['i', 'r', 'v', 'i', 'n']\n"
          ],
          "name": "stdout"
        }
      ]
    },
    {
      "cell_type": "code",
      "metadata": {
        "colab": {
          "base_uri": "https://localhost:8080/"
        },
        "id": "B-HqALLzb9Op",
        "outputId": "5ea89993-77c0-4bf4-8519-f75d457ed878"
      },
      "source": [
        "listAl = []\n",
        "alpha = 'a'\n",
        "for i in range(0, 26):\n",
        "    listAl.append(alpha)\n",
        "    alpha = chr(ord(alpha) + 1) \n",
        "\n",
        "print(listAl)"
      ],
      "execution_count": null,
      "outputs": [
        {
          "output_type": "stream",
          "text": [
            "['a', 'b', 'c', 'd', 'e', 'f', 'g', 'h', 'i', 'j', 'k', 'l', 'm', 'n', 'o', 'p', 'q', 'r', 's', 't', 'u', 'v', 'w', 'x', 'y', 'z']\n"
          ],
          "name": "stdout"
        }
      ]
    },
    {
      "cell_type": "code",
      "metadata": {
        "colab": {
          "base_uri": "https://localhost:8080/"
        },
        "id": "WK5qvVwPc0iJ",
        "outputId": "22a4da45-1811-4fab-c7ca-363e3a1bf7a9"
      },
      "source": [
        "#m = tplano.count(\"i\")\n",
        "#print(m)\n",
        "l = \"\"\n",
        "x = 0\n",
        "listNu = []\n",
        "for letra in range(len(tplano)):\n",
        "  x = tplano.count(tplano[letra])\n",
        "  print(x)\n",
        "  if tplano[letra] == l:\n",
        "    print(tplano[letra], l)\n",
        "    print(\"------------------------\")\n",
        "  elif tplano[letra] != l:\n",
        "    listNu.append(x)\n",
        "    l = tplano[letra]\n",
        "    print(l)\n",
        "    print(\"-------------------------\")\n",
        "      \n",
        "\n",
        "print(listNu)\n",
        "\n"
      ],
      "execution_count": null,
      "outputs": [
        {
          "output_type": "stream",
          "text": [
            "2\n",
            "i\n",
            "-------------------------\n",
            "1\n",
            "r\n",
            "-------------------------\n",
            "1\n",
            "v\n",
            "-------------------------\n",
            "2\n",
            "i\n",
            "-------------------------\n",
            "1\n",
            "n\n",
            "-------------------------\n",
            "[2, 1, 1, 2, 1]\n"
          ],
          "name": "stdout"
        }
      ]
    }
  ]
}