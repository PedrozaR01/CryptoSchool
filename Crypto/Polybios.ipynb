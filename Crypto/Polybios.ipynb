{
  "nbformat": 4,
  "nbformat_minor": 0,
  "metadata": {
    "colab": {
      "name": "Polybios.ipynb",
      "provenance": []
    },
    "kernelspec": {
      "name": "python3",
      "display_name": "Python 3"
    },
    "language_info": {
      "name": "python"
    }
  },
  "cells": [
    {
      "cell_type": "code",
      "metadata": {
        "colab": {
          "base_uri": "https://localhost:8080/"
        },
        "id": "eNWyoZlJJjr1",
        "outputId": "c605ec36-b1ae-49bd-cb87-bf8c5e76e774"
      },
      "source": [
        "#Leer el texto plano\n",
        "tplano = list(input(\"Ingrese el texto plano: \").upper().replace(\" \",\"\"))\n",
        "print(tplano)"
      ],
      "execution_count": null,
      "outputs": [
        {
          "output_type": "stream",
          "text": [
            "Ingrese el texto plano: vamos a pasar criptografia con excelencia  academica\n",
            "['V', 'A', 'M', 'O', 'S', 'A', 'P', 'A', 'S', 'A', 'R', 'C', 'R', 'I', 'P', 'T', 'O', 'G', 'R', 'A', 'F', 'I', 'A', 'C', 'O', 'N', 'E', 'X', 'C', 'E', 'L', 'E', 'N', 'C', 'I', 'A', 'A', 'C', 'A', 'D', 'E', 'M', 'I', 'C', 'A']\n"
          ],
          "name": "stdout"
        }
      ]
    },
    {
      "cell_type": "code",
      "metadata": {
        "colab": {
          "base_uri": "https://localhost:8080/"
        },
        "id": "8OwVDhVvKRby",
        "outputId": "ca9a893d-08f5-4e22-a3a1-cd1b34d21dc4"
      },
      "source": [
        "list = []\n",
        "palabra = \"\"\n",
        "for letra in tplano:\n",
        "  list.append(str((ord(letra) - 65)//5))\n",
        "  list.append(str((ord(letra) - 65)%5))\n",
        "print(palabra.join(list))\n"
      ],
      "execution_count": null,
      "outputs": [
        {
          "output_type": "stream",
          "text": [
            "410022243300300033003202321330342411320010130002242304430204210423021300000200030422130200\n"
          ],
          "name": "stdout"
        }
      ]
    },
    {
      "cell_type": "code",
      "metadata": {
        "colab": {
          "base_uri": "https://localhost:8080/"
        },
        "id": "P0HHaxvnNIbz",
        "outputId": "44bad41d-099c-4c40-a7d9-c9067e986a56"
      },
      "source": [
        "for x in range(0, len(list), 2):\n",
        "  pos1 = int(list[x])\n",
        "  pos2 = int(list[x+1])\n",
        "  letraAs = (pos1 * 5) + pos2\n",
        "  print(letraAs)\n",
        "  letraFl = letraAs + 65\n",
        "  caracter = chr(letraFl)\n",
        "  print(caracter)\n",
        "  print(\"------------------\")"
      ],
      "execution_count": null,
      "outputs": [
        {
          "output_type": "stream",
          "text": [
            "21\n",
            "V\n",
            "------------------\n",
            "0\n",
            "A\n",
            "------------------\n",
            "12\n",
            "M\n",
            "------------------\n",
            "14\n",
            "O\n",
            "------------------\n",
            "18\n",
            "S\n",
            "------------------\n",
            "0\n",
            "A\n",
            "------------------\n",
            "15\n",
            "P\n",
            "------------------\n",
            "0\n",
            "A\n",
            "------------------\n",
            "18\n",
            "S\n",
            "------------------\n",
            "0\n",
            "A\n",
            "------------------\n",
            "17\n",
            "R\n",
            "------------------\n",
            "2\n",
            "C\n",
            "------------------\n",
            "17\n",
            "R\n",
            "------------------\n",
            "8\n",
            "I\n",
            "------------------\n",
            "15\n",
            "P\n",
            "------------------\n",
            "19\n",
            "T\n",
            "------------------\n",
            "14\n",
            "O\n",
            "------------------\n",
            "6\n",
            "G\n",
            "------------------\n",
            "17\n",
            "R\n",
            "------------------\n",
            "0\n",
            "A\n",
            "------------------\n",
            "5\n",
            "F\n",
            "------------------\n",
            "8\n",
            "I\n",
            "------------------\n",
            "0\n",
            "A\n",
            "------------------\n",
            "2\n",
            "C\n",
            "------------------\n",
            "14\n",
            "O\n",
            "------------------\n",
            "13\n",
            "N\n",
            "------------------\n",
            "4\n",
            "E\n",
            "------------------\n",
            "23\n",
            "X\n",
            "------------------\n",
            "2\n",
            "C\n",
            "------------------\n",
            "4\n",
            "E\n",
            "------------------\n",
            "11\n",
            "L\n",
            "------------------\n",
            "4\n",
            "E\n",
            "------------------\n",
            "13\n",
            "N\n",
            "------------------\n",
            "2\n",
            "C\n",
            "------------------\n",
            "8\n",
            "I\n",
            "------------------\n",
            "0\n",
            "A\n",
            "------------------\n",
            "0\n",
            "A\n",
            "------------------\n",
            "2\n",
            "C\n",
            "------------------\n",
            "0\n",
            "A\n",
            "------------------\n",
            "3\n",
            "D\n",
            "------------------\n",
            "4\n",
            "E\n",
            "------------------\n",
            "12\n",
            "M\n",
            "------------------\n",
            "8\n",
            "I\n",
            "------------------\n",
            "2\n",
            "C\n",
            "------------------\n",
            "0\n",
            "A\n",
            "------------------\n"
          ],
          "name": "stdout"
        }
      ]
    }
  ]
}